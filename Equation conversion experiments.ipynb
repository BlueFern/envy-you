{
 "metadata": {
  "name": "",
  "signature": "sha256:86a4d26682d9ac054cb8cd3f8709cedb810554198fe42b2be93a8b2c8f80653d"
 },
 "nbformat": 3,
 "nbformat_minor": 0,
 "worksheets": [
  {
   "cells": [
    {
     "cell_type": "code",
     "collapsed": false,
     "input": [
      "import ast\n",
      "import sys\n",
      "import StringIO"
     ],
     "language": "python",
     "metadata": {},
     "outputs": [],
     "prompt_number": 160
    },
    {
     "cell_type": "code",
     "collapsed": false,
     "input": [
      "class EquationConverter(ast.NodeVisitor):\n",
      "    def __init__(self):\n",
      "        ast.NodeVisitor.__init__(self)\n",
      "        self.output = StringIO.StringIO()\n",
      "        \n",
      "class MatlabConverter(EquationConverter):\n",
      "    def visit_BinOp(self, node):\n",
      "        if isinstance(node.op, ast.Pow):\n",
      "            self.output.write('(')\n",
      "            self.visit(node.left)\n",
      "            self.output.write(' .^ ')\n",
      "            self.visit(node.right)\n",
      "            self.output.write(')')    \n",
      "        elif isinstance(node.op, ast.Add):\n",
      "            self.output.write('(')\n",
      "            self.visit(node.left)\n",
      "            self.output.write(' + ')\n",
      "            self.visit(node.right)\n",
      "            self.output.write(')')    \n",
      "        elif isinstance(node.op, ast.Mult):\n",
      "            self.output.write('(')\n",
      "            self.visit(node.left)\n",
      "            self.output.write(' .* ')\n",
      "            self.visit(node.right)\n",
      "            self.output.write(')')    \n",
      "        \n",
      "    def visit_Name(self, node):\n",
      "        self.output.write(node.id)\n",
      "        \n",
      "class CConverter(EquationConverter):\n",
      "    def visit_BinOp(self, node):\n",
      "        if isinstance(node.op, ast.Pow):\n",
      "            self.output.write('pow((double) ')\n",
      "            self.visit(node.left)\n",
      "            self.output.write(', (double) ')\n",
      "            self.visit(node.right)\n",
      "            self.output.write(')')\n",
      "        elif isinstance(node.op, ast.Add):\n",
      "            self.output.write('(')\n",
      "            self.visit(node.left)\n",
      "            self.output.write(' + ')\n",
      "            self.visit(node.right)\n",
      "            self.output.write(')')    \n",
      "        elif isinstance(node.op, ast.Mult):\n",
      "            self.output.write('(')\n",
      "            self.visit(node.left)\n",
      "            self.output.write(' * ')\n",
      "            self.visit(node.right)\n",
      "            self.output.write(')')    \n",
      "                        \n",
      "    def visit_Name(self, node):\n",
      "        self.output.write(node.id)\n",
      "    \n",
      "def matlab_convert(str):\n",
      "    t = ast.parse(s)\n",
      "    x = MatlabConverter()\n",
      "    x.visit(t)\n",
      "    out = x.output.getvalue()\n",
      "    x.output.close()\n",
      "    return out\n",
      "\n",
      "def c_convert(str):\n",
      "    t = ast.parse(s)\n",
      "    x = CConverter()\n",
      "    x.visit(t)\n",
      "    out = x.output.getvalue()\n",
      "    x.output.close()\n",
      "    return out\n",
      "    \n"
     ],
     "language": "python",
     "metadata": {},
     "outputs": [],
     "prompt_number": 165
    },
    {
     "cell_type": "code",
     "collapsed": false,
     "input": [
      "s = 'a ** (b * c) + e * (c + d)' \n",
      "s_mat = matlab_convert(s)\n",
      "s_c = c_convert(s)\n",
      "print 'MATLAB: ' + s_mat\n",
      "print 'C:      ' + s_c"
     ],
     "language": "python",
     "metadata": {},
     "outputs": [
      {
       "output_type": "stream",
       "stream": "stdout",
       "text": [
        "MATLAB: ((a .^ (b .* c)) + (e .* (c + d)))\n",
        "C:      (pow((double) a, (double) (b * c)) + (e * (c + d)))\n"
       ]
      }
     ],
     "prompt_number": 166
    }
   ],
   "metadata": {}
  }
 ]
}